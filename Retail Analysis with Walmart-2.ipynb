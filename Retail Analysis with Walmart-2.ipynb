{
 "cells": [
  {
   "cell_type": "markdown",
   "metadata": {},
   "source": [
    "# Retail Analysis Walmart\n",
    "\n",
    "\n",
    "#### DESCRIPTION\n",
    "\n",
    "One of the leading retail stores in the US, Walmart, would like to predict the sales and demand accurately. There are certain events and holidays which impact sales on each day. There are sales data available for 45 stores of Walmart. The business is facing a challenge due to unforeseen demands and runs out of stock some times, due to the inappropriate machine learning algorithm. An ideal ML algorithm will predict demand accurately and ingest factors like economic conditions including CPI, Unemployment Index, etc.\n",
    "\n",
    "Walmart runs several promotional markdown events throughout the year. These markdowns precede prominent holidays, the four largest of all, which are the Super Bowl, Labour Day, Thanksgiving, and Christmas. Historical sales data for 45 Walmart stores located in different regions are available.\n",
    "\n",
    "##### Dataset Description\n",
    "\n",
    "This is the historical data that covers sales from 2010-02-05 to 2012-11-01, in the file Walmart_Store_sales. Within this file you will find the following fields:\n",
    "\n",
    "Store - the store number\n",
    "\n",
    "Date - the week of sales\n",
    "\n",
    "Weekly_Sales -  sales for the given store\n",
    "\n",
    "Holiday_Flag - whether the week is a special holiday week 1 – Holiday week 0 – Non-holiday week\n",
    "\n",
    "Temperature - Temperature on the day of sale\n",
    "\n",
    "Fuel_Price - Cost of fuel in the region\n",
    "\n",
    "CPI – Prevailing consumer price index\n",
    "\n",
    "Unemployment - Prevailing unemployment rate\n",
    "\n",
    "Holiday Events\n",
    "\n",
    "- Super Bowl: 12-Feb-10, 11-Feb-11, 10-Feb-12, 8-Feb-13\n",
    "- Labour Day: 10-Sep-10, 9-Sep-11, 7-Sep-12, 6-Sep-13\n",
    "- Thanksgiving: 26-Nov-10, 25-Nov-11, 23-Nov-12, 29-Nov-13\n",
    "- Christmas: 31-Dec-10, 30-Dec-11, 28-Dec-12, 27-Dec-13\n",
    "\n",
    "\n",
    "**Analysis Tasks**\n",
    "\n",
    "Basic Statistics tasks\n",
    "\n",
    "Which store has maximum sales\n",
    "\n",
    "Which store has maximum standard deviation i.e., the sales vary a lot. Also, find out the coefficient of mean to standard deviation\n",
    "\n",
    "Which store/s has good quarterly growth rate in Q3’2012\n",
    "\n",
    "Some holidays have a negative impact on sales. Find out holidays which have higher sales than the mean sales in non-holiday season for all stores together\n",
    "\n",
    "Provide a monthly and semester view of sales in units and give insights\n",
    "\n",
    "**Statistical Model**\n",
    "\n",
    "Build  prediction models to forecast demand\n",
    "\n",
    "Hypothesize if CPI, unemployment, and fuel price have any impact on sales.\n",
    "\n",
    "Select the model which gives best accuracy."
   ]
  },
  {
   "cell_type": "code",
   "execution_count": 1,
   "metadata": {},
   "outputs": [],
   "source": [
    "#Let us import all the necessary modules\n",
    "import pandas as pd\n",
    "import numpy as np\n",
    "import matplotlib.pyplot as plt\n",
    "from matplotlib import style\n",
    "import seaborn as sns\n",
    "%matplotlib inline\n",
    "from sklearn.model_selection import train_test_split\n",
    "from sklearn.linear_model import LinearRegression\n",
    "from sklearn.tree import DecisionTreeRegressor\n",
    "from sklearn.ensemble import RandomForestRegressor\n",
    "from scipy.stats import pearsonr\n",
    "from sklearn.metrics import mean_squared_error, r2_score\n",
    "from sklearn.model_selection import cross_val_score\n",
    "\n",
    "#Reading the data\n",
    "df = pd.read_csv('Walmart_Store_sales.csv', parse_dates = ['Date'])"
   ]
  },
  {
   "cell_type": "code",
   "execution_count": 2,
   "metadata": {},
   "outputs": [
    {
     "data": {
      "text/html": [
       "<div>\n",
       "<style scoped>\n",
       "    .dataframe tbody tr th:only-of-type {\n",
       "        vertical-align: middle;\n",
       "    }\n",
       "\n",
       "    .dataframe tbody tr th {\n",
       "        vertical-align: top;\n",
       "    }\n",
       "\n",
       "    .dataframe thead th {\n",
       "        text-align: right;\n",
       "    }\n",
       "</style>\n",
       "<table border=\"1\" class=\"dataframe\">\n",
       "  <thead>\n",
       "    <tr style=\"text-align: right;\">\n",
       "      <th></th>\n",
       "      <th>Store</th>\n",
       "      <th>Date</th>\n",
       "      <th>Weekly_Sales</th>\n",
       "      <th>Holiday_Flag</th>\n",
       "      <th>Temperature</th>\n",
       "      <th>Fuel_Price</th>\n",
       "      <th>CPI</th>\n",
       "      <th>Unemployment</th>\n",
       "    </tr>\n",
       "  </thead>\n",
       "  <tbody>\n",
       "    <tr>\n",
       "      <th>0</th>\n",
       "      <td>1</td>\n",
       "      <td>2010-05-02</td>\n",
       "      <td>1643690.90</td>\n",
       "      <td>0</td>\n",
       "      <td>42.31</td>\n",
       "      <td>2.572</td>\n",
       "      <td>211.096358</td>\n",
       "      <td>8.106</td>\n",
       "    </tr>\n",
       "    <tr>\n",
       "      <th>1</th>\n",
       "      <td>1</td>\n",
       "      <td>2010-12-02</td>\n",
       "      <td>1641957.44</td>\n",
       "      <td>1</td>\n",
       "      <td>38.51</td>\n",
       "      <td>2.548</td>\n",
       "      <td>211.242170</td>\n",
       "      <td>8.106</td>\n",
       "    </tr>\n",
       "    <tr>\n",
       "      <th>2</th>\n",
       "      <td>1</td>\n",
       "      <td>2010-02-19</td>\n",
       "      <td>1611968.17</td>\n",
       "      <td>0</td>\n",
       "      <td>39.93</td>\n",
       "      <td>2.514</td>\n",
       "      <td>211.289143</td>\n",
       "      <td>8.106</td>\n",
       "    </tr>\n",
       "    <tr>\n",
       "      <th>3</th>\n",
       "      <td>1</td>\n",
       "      <td>2010-02-26</td>\n",
       "      <td>1409727.59</td>\n",
       "      <td>0</td>\n",
       "      <td>46.63</td>\n",
       "      <td>2.561</td>\n",
       "      <td>211.319643</td>\n",
       "      <td>8.106</td>\n",
       "    </tr>\n",
       "    <tr>\n",
       "      <th>4</th>\n",
       "      <td>1</td>\n",
       "      <td>2010-05-03</td>\n",
       "      <td>1554806.68</td>\n",
       "      <td>0</td>\n",
       "      <td>46.50</td>\n",
       "      <td>2.625</td>\n",
       "      <td>211.350143</td>\n",
       "      <td>8.106</td>\n",
       "    </tr>\n",
       "  </tbody>\n",
       "</table>\n",
       "</div>"
      ],
      "text/plain": [
       "   Store       Date  Weekly_Sales  Holiday_Flag  Temperature  Fuel_Price  \\\n",
       "0      1 2010-05-02    1643690.90             0        42.31       2.572   \n",
       "1      1 2010-12-02    1641957.44             1        38.51       2.548   \n",
       "2      1 2010-02-19    1611968.17             0        39.93       2.514   \n",
       "3      1 2010-02-26    1409727.59             0        46.63       2.561   \n",
       "4      1 2010-05-03    1554806.68             0        46.50       2.625   \n",
       "\n",
       "          CPI  Unemployment  \n",
       "0  211.096358         8.106  \n",
       "1  211.242170         8.106  \n",
       "2  211.289143         8.106  \n",
       "3  211.319643         8.106  \n",
       "4  211.350143         8.106  "
      ]
     },
     "execution_count": 2,
     "metadata": {},
     "output_type": "execute_result"
    }
   ],
   "source": [
    "#Displaying top 5 rows of the data\n",
    "df.head()"
   ]
  },
  {
   "cell_type": "code",
   "execution_count": 3,
   "metadata": {},
   "outputs": [
    {
     "data": {
      "text/plain": [
       "Store           0\n",
       "Date            0\n",
       "Weekly_Sales    0\n",
       "Holiday_Flag    0\n",
       "Temperature     0\n",
       "Fuel_Price      0\n",
       "CPI             0\n",
       "Unemployment    0\n",
       "dtype: int64"
      ]
     },
     "execution_count": 3,
     "metadata": {},
     "output_type": "execute_result"
    }
   ],
   "source": [
    "#Checking if data has null values\n",
    "df.isnull().sum()"
   ]
  },
  {
   "cell_type": "code",
   "execution_count": 4,
   "metadata": {},
   "outputs": [
    {
     "data": {
      "text/html": [
       "<div>\n",
       "<style scoped>\n",
       "    .dataframe tbody tr th:only-of-type {\n",
       "        vertical-align: middle;\n",
       "    }\n",
       "\n",
       "    .dataframe tbody tr th {\n",
       "        vertical-align: top;\n",
       "    }\n",
       "\n",
       "    .dataframe thead th {\n",
       "        text-align: right;\n",
       "    }\n",
       "</style>\n",
       "<table border=\"1\" class=\"dataframe\">\n",
       "  <thead>\n",
       "    <tr style=\"text-align: right;\">\n",
       "      <th></th>\n",
       "      <th>Store</th>\n",
       "      <th>Weekly_Sales</th>\n",
       "      <th>Holiday_Flag</th>\n",
       "      <th>Temperature</th>\n",
       "      <th>Fuel_Price</th>\n",
       "      <th>CPI</th>\n",
       "      <th>Unemployment</th>\n",
       "    </tr>\n",
       "  </thead>\n",
       "  <tbody>\n",
       "    <tr>\n",
       "      <th>count</th>\n",
       "      <td>6435.000000</td>\n",
       "      <td>6.435000e+03</td>\n",
       "      <td>6435.000000</td>\n",
       "      <td>6435.000000</td>\n",
       "      <td>6435.000000</td>\n",
       "      <td>6435.000000</td>\n",
       "      <td>6435.000000</td>\n",
       "    </tr>\n",
       "    <tr>\n",
       "      <th>mean</th>\n",
       "      <td>23.000000</td>\n",
       "      <td>1.046965e+06</td>\n",
       "      <td>0.069930</td>\n",
       "      <td>60.663782</td>\n",
       "      <td>3.358607</td>\n",
       "      <td>171.578394</td>\n",
       "      <td>7.999151</td>\n",
       "    </tr>\n",
       "    <tr>\n",
       "      <th>std</th>\n",
       "      <td>12.988182</td>\n",
       "      <td>5.643666e+05</td>\n",
       "      <td>0.255049</td>\n",
       "      <td>18.444933</td>\n",
       "      <td>0.459020</td>\n",
       "      <td>39.356712</td>\n",
       "      <td>1.875885</td>\n",
       "    </tr>\n",
       "    <tr>\n",
       "      <th>min</th>\n",
       "      <td>1.000000</td>\n",
       "      <td>2.099862e+05</td>\n",
       "      <td>0.000000</td>\n",
       "      <td>-2.060000</td>\n",
       "      <td>2.472000</td>\n",
       "      <td>126.064000</td>\n",
       "      <td>3.879000</td>\n",
       "    </tr>\n",
       "    <tr>\n",
       "      <th>25%</th>\n",
       "      <td>12.000000</td>\n",
       "      <td>5.533501e+05</td>\n",
       "      <td>0.000000</td>\n",
       "      <td>47.460000</td>\n",
       "      <td>2.933000</td>\n",
       "      <td>131.735000</td>\n",
       "      <td>6.891000</td>\n",
       "    </tr>\n",
       "    <tr>\n",
       "      <th>50%</th>\n",
       "      <td>23.000000</td>\n",
       "      <td>9.607460e+05</td>\n",
       "      <td>0.000000</td>\n",
       "      <td>62.670000</td>\n",
       "      <td>3.445000</td>\n",
       "      <td>182.616521</td>\n",
       "      <td>7.874000</td>\n",
       "    </tr>\n",
       "    <tr>\n",
       "      <th>75%</th>\n",
       "      <td>34.000000</td>\n",
       "      <td>1.420159e+06</td>\n",
       "      <td>0.000000</td>\n",
       "      <td>74.940000</td>\n",
       "      <td>3.735000</td>\n",
       "      <td>212.743293</td>\n",
       "      <td>8.622000</td>\n",
       "    </tr>\n",
       "    <tr>\n",
       "      <th>max</th>\n",
       "      <td>45.000000</td>\n",
       "      <td>3.818686e+06</td>\n",
       "      <td>1.000000</td>\n",
       "      <td>100.140000</td>\n",
       "      <td>4.468000</td>\n",
       "      <td>227.232807</td>\n",
       "      <td>14.313000</td>\n",
       "    </tr>\n",
       "  </tbody>\n",
       "</table>\n",
       "</div>"
      ],
      "text/plain": [
       "             Store  Weekly_Sales  Holiday_Flag  Temperature   Fuel_Price  \\\n",
       "count  6435.000000  6.435000e+03   6435.000000  6435.000000  6435.000000   \n",
       "mean     23.000000  1.046965e+06      0.069930    60.663782     3.358607   \n",
       "std      12.988182  5.643666e+05      0.255049    18.444933     0.459020   \n",
       "min       1.000000  2.099862e+05      0.000000    -2.060000     2.472000   \n",
       "25%      12.000000  5.533501e+05      0.000000    47.460000     2.933000   \n",
       "50%      23.000000  9.607460e+05      0.000000    62.670000     3.445000   \n",
       "75%      34.000000  1.420159e+06      0.000000    74.940000     3.735000   \n",
       "max      45.000000  3.818686e+06      1.000000   100.140000     4.468000   \n",
       "\n",
       "               CPI  Unemployment  \n",
       "count  6435.000000   6435.000000  \n",
       "mean    171.578394      7.999151  \n",
       "std      39.356712      1.875885  \n",
       "min     126.064000      3.879000  \n",
       "25%     131.735000      6.891000  \n",
       "50%     182.616521      7.874000  \n",
       "75%     212.743293      8.622000  \n",
       "max     227.232807     14.313000  "
      ]
     },
     "execution_count": 4,
     "metadata": {},
     "output_type": "execute_result"
    }
   ],
   "source": [
    "#Brief description of numeric columns of data\n",
    "df.describe()"
   ]
  },
  {
   "cell_type": "code",
   "execution_count": 5,
   "metadata": {},
   "outputs": [
    {
     "name": "stdout",
     "output_type": "stream",
     "text": [
      "<class 'pandas.core.frame.DataFrame'>\n",
      "RangeIndex: 6435 entries, 0 to 6434\n",
      "Data columns (total 8 columns):\n",
      " #   Column        Non-Null Count  Dtype         \n",
      "---  ------        --------------  -----         \n",
      " 0   Store         6435 non-null   int64         \n",
      " 1   Date          6435 non-null   datetime64[ns]\n",
      " 2   Weekly_Sales  6435 non-null   float64       \n",
      " 3   Holiday_Flag  6435 non-null   int64         \n",
      " 4   Temperature   6435 non-null   float64       \n",
      " 5   Fuel_Price    6435 non-null   float64       \n",
      " 6   CPI           6435 non-null   float64       \n",
      " 7   Unemployment  6435 non-null   float64       \n",
      "dtypes: datetime64[ns](1), float64(5), int64(2)\n",
      "memory usage: 402.3 KB\n"
     ]
    }
   ],
   "source": [
    "#Information about types of data columns\n",
    "df.info()"
   ]
  },
  {
   "cell_type": "code",
   "execution_count": 6,
   "metadata": {},
   "outputs": [
    {
     "name": "stdout",
     "output_type": "stream",
     "text": [
      "       Weekly_Sales                                  coeff\n",
      "               mean           sum            std          \n",
      "Store                                                     \n",
      "1      1.555264e+06  2.224028e+08  155980.767761  9.970873\n",
      "2      1.925751e+06  2.753824e+08  237683.694682  8.102160\n",
      "3      4.027044e+05  5.758674e+07   46319.631557  8.694034\n",
      "4      2.094713e+06  2.995440e+08  266201.442297  7.868902\n",
      "5      3.180118e+05  4.547569e+07   37737.965745  8.426840\n",
      "\n",
      "Store with max sales by mean: 20\n",
      "Store with max sales by total: 20\n",
      "Store with max std: 14\n",
      "Coefficient of mean to std for store with max std: 6.363884253900052\n"
     ]
    }
   ],
   "source": [
    "#Which store has maximum sales?\n",
    "#Which store has maximum standard deviation and coeficient of mean to standard deviation?\n",
    "#To answer these questions, let us group the data by stores and calculate average, total and std of sales by store\n",
    "\n",
    "df_temp = df.groupby('Store').agg({'Weekly_Sales':['mean','sum','std']})\n",
    "df_temp['coeff'] = df_temp[('Weekly_Sales','mean')]/df_temp[('Weekly_Sales','std')]\n",
    "print(df_temp.head())\n",
    "print()\n",
    "print('Store with max sales by mean:',df_temp['Weekly_Sales','mean'].idxmax())\n",
    "print('Store with max sales by total:',df_temp['Weekly_Sales','sum'].idxmax())\n",
    "print('Store with max std:',df_temp['Weekly_Sales','std'].idxmax())\n",
    "print('Coefficient of mean to std for store with max std:',df_temp.coeff[df_temp['Weekly_Sales','std'].idxmax()])"
   ]
  },
  {
   "cell_type": "code",
   "execution_count": 7,
   "metadata": {},
   "outputs": [
    {
     "data": {
      "text/html": [
       "<div>\n",
       "<style scoped>\n",
       "    .dataframe tbody tr th:only-of-type {\n",
       "        vertical-align: middle;\n",
       "    }\n",
       "\n",
       "    .dataframe tbody tr th {\n",
       "        vertical-align: top;\n",
       "    }\n",
       "\n",
       "    .dataframe thead th {\n",
       "        text-align: right;\n",
       "    }\n",
       "</style>\n",
       "<table border=\"1\" class=\"dataframe\">\n",
       "  <thead>\n",
       "    <tr style=\"text-align: right;\">\n",
       "      <th></th>\n",
       "      <th>Store</th>\n",
       "      <th>Date</th>\n",
       "      <th>Weekly_Sales</th>\n",
       "      <th>Holiday_Flag</th>\n",
       "      <th>Temperature</th>\n",
       "      <th>Fuel_Price</th>\n",
       "      <th>CPI</th>\n",
       "      <th>Unemployment</th>\n",
       "      <th>Quarter</th>\n",
       "    </tr>\n",
       "  </thead>\n",
       "  <tbody>\n",
       "    <tr>\n",
       "      <th>0</th>\n",
       "      <td>1</td>\n",
       "      <td>2010-05-02</td>\n",
       "      <td>1643690.90</td>\n",
       "      <td>0</td>\n",
       "      <td>42.31</td>\n",
       "      <td>2.572</td>\n",
       "      <td>211.096358</td>\n",
       "      <td>8.106</td>\n",
       "      <td>Q2-2010</td>\n",
       "    </tr>\n",
       "    <tr>\n",
       "      <th>1</th>\n",
       "      <td>1</td>\n",
       "      <td>2010-12-02</td>\n",
       "      <td>1641957.44</td>\n",
       "      <td>1</td>\n",
       "      <td>38.51</td>\n",
       "      <td>2.548</td>\n",
       "      <td>211.242170</td>\n",
       "      <td>8.106</td>\n",
       "      <td>Q4-2010</td>\n",
       "    </tr>\n",
       "    <tr>\n",
       "      <th>2</th>\n",
       "      <td>1</td>\n",
       "      <td>2010-02-19</td>\n",
       "      <td>1611968.17</td>\n",
       "      <td>0</td>\n",
       "      <td>39.93</td>\n",
       "      <td>2.514</td>\n",
       "      <td>211.289143</td>\n",
       "      <td>8.106</td>\n",
       "      <td>Q1-2010</td>\n",
       "    </tr>\n",
       "    <tr>\n",
       "      <th>3</th>\n",
       "      <td>1</td>\n",
       "      <td>2010-02-26</td>\n",
       "      <td>1409727.59</td>\n",
       "      <td>0</td>\n",
       "      <td>46.63</td>\n",
       "      <td>2.561</td>\n",
       "      <td>211.319643</td>\n",
       "      <td>8.106</td>\n",
       "      <td>Q1-2010</td>\n",
       "    </tr>\n",
       "    <tr>\n",
       "      <th>4</th>\n",
       "      <td>1</td>\n",
       "      <td>2010-05-03</td>\n",
       "      <td>1554806.68</td>\n",
       "      <td>0</td>\n",
       "      <td>46.50</td>\n",
       "      <td>2.625</td>\n",
       "      <td>211.350143</td>\n",
       "      <td>8.106</td>\n",
       "      <td>Q2-2010</td>\n",
       "    </tr>\n",
       "  </tbody>\n",
       "</table>\n",
       "</div>"
      ],
      "text/plain": [
       "   Store       Date  Weekly_Sales  Holiday_Flag  Temperature  Fuel_Price  \\\n",
       "0      1 2010-05-02    1643690.90             0        42.31       2.572   \n",
       "1      1 2010-12-02    1641957.44             1        38.51       2.548   \n",
       "2      1 2010-02-19    1611968.17             0        39.93       2.514   \n",
       "3      1 2010-02-26    1409727.59             0        46.63       2.561   \n",
       "4      1 2010-05-03    1554806.68             0        46.50       2.625   \n",
       "\n",
       "          CPI  Unemployment  Quarter  \n",
       "0  211.096358         8.106  Q2-2010  \n",
       "1  211.242170         8.106  Q4-2010  \n",
       "2  211.289143         8.106  Q1-2010  \n",
       "3  211.319643         8.106  Q1-2010  \n",
       "4  211.350143         8.106  Q2-2010  "
      ]
     },
     "execution_count": 7,
     "metadata": {},
     "output_type": "execute_result"
    }
   ],
   "source": [
    "#Which store has good quarterly growth rate in Q3'2012?\n",
    "#Let us identify which quarters the dates fall under.\n",
    "def quarter(row):\n",
    "    if row.month in (4,5,6):\n",
    "        return ('Q2-'+str(row.year))\n",
    "    if row.month in (7,8,9):\n",
    "        return ('Q3-'+str(row.year))\n",
    "    if row.month in (1,2,3):\n",
    "        return ('Q1-'+str(row.year))\n",
    "    if row.month in (10,11,12):\n",
    "        return ('Q4-'+str(row.year))\n",
    "\n",
    "df['Quarter']=df['Date'].apply(quarter)\n",
    "df.head()"
   ]
  },
  {
   "cell_type": "code",
   "execution_count": 8,
   "metadata": {},
   "outputs": [
    {
     "name": "stdout",
     "output_type": "stream",
     "text": [
      "Grouped data\n",
      "               Weekly_Sales\n",
      "Store Quarter              \n",
      "1     Q2-2012   21036965.58\n",
      "      Q3-2012   18633209.98\n",
      "2     Q2-2012   25085123.61\n",
      "      Q3-2012   22396867.61\n",
      "3     Q2-2012    5562668.16\n",
      "\n",
      "Growth in Q3 of each store\n",
      "    store    Growth\n",
      "0       1 -0.114263\n",
      "1       2 -0.107165\n",
      "2       3 -0.107174\n",
      "3       4 -0.096253\n",
      "4       5 -0.123471\n",
      "5       6 -0.115189\n",
      "6       7 -0.038247\n",
      "7       8 -0.088855\n",
      "8       9 -0.121524\n",
      "9      10 -0.102934\n",
      "10     11 -0.099822\n",
      "11     12 -0.107316\n",
      "12     13 -0.092647\n",
      "13     14 -0.175511\n",
      "14     15 -0.121833\n",
      "15     16 -0.027893\n",
      "16     17 -0.107199\n",
      "17     18 -0.095932\n",
      "18     19 -0.091232\n",
      "19     20 -0.104691\n",
      "20     21 -0.089177\n",
      "21     22 -0.113325\n",
      "22     23 -0.064527\n",
      "23     24 -0.092423\n",
      "24     25 -0.101436\n",
      "25     26 -0.060576\n",
      "26     27 -0.106331\n",
      "27     28 -0.113643\n",
      "28     29 -0.128884\n",
      "29     30 -0.104446\n",
      "30     31 -0.098351\n",
      "31     32 -0.082585\n",
      "32     33 -0.095402\n",
      "33     34 -0.107464\n",
      "34     35 -0.046631\n",
      "35     36 -0.125234\n",
      "36     37 -0.088815\n",
      "37     38 -0.105204\n",
      "38     39 -0.063969\n",
      "39     40 -0.093549\n",
      "40     41 -0.067565\n",
      "41     42 -0.102180\n",
      "42     43 -0.104744\n",
      "43     44 -0.069882\n",
      "44     45 -0.138892\n",
      "Store with max growth rate in Q3'2012:  15\n"
     ]
    },
    {
     "name": "stderr",
     "output_type": "stream",
     "text": [
      "<ipython-input-8-8941875d2084>:13: DeprecationWarning: The default dtype for empty Series will be 'object' instead of 'float64' in a future version. Specify a dtype explicitly to silence this warning.\n",
      "  df_growth['Growth']=pd.Series()\n",
      "C:\\Users\\hnyap\\anaconda3\\lib\\site-packages\\pandas\\core\\indexing.py:671: SettingWithCopyWarning: \n",
      "A value is trying to be set on a copy of a slice from a DataFrame\n",
      "\n",
      "See the caveats in the documentation: https://pandas.pydata.org/pandas-docs/stable/user_guide/indexing.html#returning-a-view-versus-a-copy\n",
      "  self._setitem_with_indexer(indexer, value)\n"
     ]
    }
   ],
   "source": [
    "#First let us group the data by store and quarters\n",
    "\n",
    "df_quarter =  df[(df['Quarter']=='Q2-2012') | (df['Quarter'] == 'Q3-2012')].groupby(['Store','Quarter']).agg({'Weekly_Sales':'sum'})\n",
    "print('Grouped data')\n",
    "print(df_quarter.head())\n",
    "print()\n",
    "\n",
    "\n",
    "#Make a new dataframe to store the store numbers and their growth rates in Q3'2012\n",
    "#The growth rates are calculated from the total sales per quarter of the grouped data\n",
    "\n",
    "df_growth = pd.DataFrame(df['Store'].unique())\n",
    "df_growth['Growth']=pd.Series()\n",
    "for i in range(1,46):    \n",
    "    df_growth.Growth.iloc[i-1] = (df_quarter.Weekly_Sales.loc[(i,'Q3-2012')] - df_quarter.Weekly_Sales.loc[(i,'Q2-2012')])/df_quarter.Weekly_Sales.loc[(i,'Q2-2012')]\n",
    "df_growth.rename(columns={0:'store'},inplace=True)\n",
    "print('Growth in Q3 of each store')\n",
    "print(df_growth)\n",
    "print(\"Store with max growth rate in Q3'2012: \",df_growth.Growth.idxmax())"
   ]
  },
  {
   "cell_type": "markdown",
   "metadata": {},
   "source": [
    "Hence store 15 has highest growth rate. However, as all growth rates are negative, store 15 has least negative growth rate."
   ]
  },
  {
   "cell_type": "code",
   "execution_count": 9,
   "metadata": {},
   "outputs": [
    {
     "data": {
      "text/html": [
       "<div>\n",
       "<style scoped>\n",
       "    .dataframe tbody tr th:only-of-type {\n",
       "        vertical-align: middle;\n",
       "    }\n",
       "\n",
       "    .dataframe tbody tr th {\n",
       "        vertical-align: top;\n",
       "    }\n",
       "\n",
       "    .dataframe thead th {\n",
       "        text-align: right;\n",
       "    }\n",
       "</style>\n",
       "<table border=\"1\" class=\"dataframe\">\n",
       "  <thead>\n",
       "    <tr style=\"text-align: right;\">\n",
       "      <th></th>\n",
       "      <th>Store</th>\n",
       "      <th>Date</th>\n",
       "      <th>Weekly_Sales</th>\n",
       "      <th>Holiday_Flag</th>\n",
       "      <th>Temperature</th>\n",
       "      <th>Fuel_Price</th>\n",
       "      <th>CPI</th>\n",
       "      <th>Unemployment</th>\n",
       "      <th>Quarter</th>\n",
       "      <th>Holiday</th>\n",
       "    </tr>\n",
       "  </thead>\n",
       "  <tbody>\n",
       "    <tr>\n",
       "      <th>606</th>\n",
       "      <td>5</td>\n",
       "      <td>2010-01-10</td>\n",
       "      <td>283178.12</td>\n",
       "      <td>0</td>\n",
       "      <td>71.10</td>\n",
       "      <td>2.603</td>\n",
       "      <td>212.226946</td>\n",
       "      <td>6.768</td>\n",
       "      <td>Q1-2010</td>\n",
       "      <td>None</td>\n",
       "    </tr>\n",
       "    <tr>\n",
       "      <th>2036</th>\n",
       "      <td>15</td>\n",
       "      <td>2010-01-10</td>\n",
       "      <td>566945.95</td>\n",
       "      <td>0</td>\n",
       "      <td>59.69</td>\n",
       "      <td>2.840</td>\n",
       "      <td>132.756800</td>\n",
       "      <td>8.067</td>\n",
       "      <td>Q1-2010</td>\n",
       "      <td>None</td>\n",
       "    </tr>\n",
       "    <tr>\n",
       "      <th>5897</th>\n",
       "      <td>42</td>\n",
       "      <td>2010-01-10</td>\n",
       "      <td>481523.93</td>\n",
       "      <td>0</td>\n",
       "      <td>86.01</td>\n",
       "      <td>3.001</td>\n",
       "      <td>126.234600</td>\n",
       "      <td>9.003</td>\n",
       "      <td>Q1-2010</td>\n",
       "      <td>None</td>\n",
       "    </tr>\n",
       "    <tr>\n",
       "      <th>4610</th>\n",
       "      <td>33</td>\n",
       "      <td>2010-01-10</td>\n",
       "      <td>224294.39</td>\n",
       "      <td>0</td>\n",
       "      <td>91.45</td>\n",
       "      <td>3.001</td>\n",
       "      <td>126.234600</td>\n",
       "      <td>9.265</td>\n",
       "      <td>Q1-2010</td>\n",
       "      <td>None</td>\n",
       "    </tr>\n",
       "    <tr>\n",
       "      <th>5039</th>\n",
       "      <td>36</td>\n",
       "      <td>2010-01-10</td>\n",
       "      <td>422169.47</td>\n",
       "      <td>0</td>\n",
       "      <td>74.66</td>\n",
       "      <td>2.567</td>\n",
       "      <td>210.440443</td>\n",
       "      <td>8.476</td>\n",
       "      <td>Q1-2010</td>\n",
       "      <td>None</td>\n",
       "    </tr>\n",
       "  </tbody>\n",
       "</table>\n",
       "</div>"
      ],
      "text/plain": [
       "      Store       Date  Weekly_Sales  Holiday_Flag  Temperature  Fuel_Price  \\\n",
       "606       5 2010-01-10     283178.12             0        71.10       2.603   \n",
       "2036     15 2010-01-10     566945.95             0        59.69       2.840   \n",
       "5897     42 2010-01-10     481523.93             0        86.01       3.001   \n",
       "4610     33 2010-01-10     224294.39             0        91.45       3.001   \n",
       "5039     36 2010-01-10     422169.47             0        74.66       2.567   \n",
       "\n",
       "             CPI  Unemployment  Quarter Holiday  \n",
       "606   212.226946         6.768  Q1-2010    None  \n",
       "2036  132.756800         8.067  Q1-2010    None  \n",
       "5897  126.234600         9.003  Q1-2010    None  \n",
       "4610  126.234600         9.265  Q1-2010    None  \n",
       "5039  210.440443         8.476  Q1-2010    None  "
      ]
     },
     "execution_count": 9,
     "metadata": {},
     "output_type": "execute_result"
    }
   ],
   "source": [
    "#Which holidays have higher sales than the man sales of non holiday season?\n",
    "#First let us create a new column to identify the holidays.\n",
    "\n",
    "df.sort_values(by = 'Date',inplace = True)\n",
    "\n",
    "def holiday(row):\n",
    "    if row in list(map(pd.to_datetime,('2010-02-12','2011-02-11','2012-02-10','2013-02-08'))):\n",
    "        return 'Super bowl'\n",
    "    if row in list(map(pd.to_datetime,('2010-09-10','2011-09-09','2012-09-07','2013-09-06'))):\n",
    "        return 'Labour day'\n",
    "    if row in list(map(pd.to_datetime,('2010-11-26','2011-11-25','2012-11-23','2013-11-29'))):\n",
    "        return 'Thanksgiving'\n",
    "    if row in list(map(pd.to_datetime,('2010-12-31','2011-12-30','2012-12-28','2013-12-27'))):\n",
    "        return 'Christmas'\n",
    "\n",
    "df['Holiday'] = df['Date'].apply(holiday)\n",
    "df.head()"
   ]
  },
  {
   "cell_type": "code",
   "execution_count": 10,
   "metadata": {},
   "outputs": [
    {
     "name": "stdout",
     "output_type": "stream",
     "text": [
      "              Weekly_Sales Is greater than avg sales\n",
      "Holiday                                             \n",
      "Christmas     9.608331e+05                        no\n",
      "Labour day    1.039183e+06                        no\n",
      "Thanksgiving  1.471273e+06                       yes\n"
     ]
    }
   ],
   "source": [
    "#Now let us group the data by holidays, calculate mean sales on each holiday and mean sales of non holiday season\n",
    "#Then we can compare the two\n",
    "\n",
    "df_hol = df[df['Holiday'].notnull()].groupby('Holiday').agg({'Weekly_Sales':'mean'})\n",
    "sales_mean = df.Weekly_Sales[df['Holiday_Flag']==0].mean()\n",
    "df_hol['Is greater than avg sales'] = df_hol['Weekly_Sales'].apply(lambda x:'yes' if x > sales_mean else 'no')\n",
    "print(df_hol)"
   ]
  },
  {
   "cell_type": "markdown",
   "metadata": {},
   "source": [
    "We can see that Thanksgiving affects sales positively whereas others affect it negatively. We do not have data about Superbowl."
   ]
  },
  {
   "cell_type": "code",
   "execution_count": 11,
   "metadata": {},
   "outputs": [
    {
     "data": {
      "text/plain": [
       "Text(0, 0.5, 'Total Sales')"
      ]
     },
     "execution_count": 11,
     "metadata": {},
     "output_type": "execute_result"
    },
    {
     "data": {
      "image/png": "[encoded data removed]",
      "text/plain": [
       "<Figure size 432x288 with 1 Axes>"
      ]
     },
     "metadata": {
      "needs_background": "light"
     },
     "output_type": "display_data"
    }
   ],
   "source": [
    "#Provide monthly and quarterly view of sales\n",
    "\n",
    "#First let us check total sales in each quarter\n",
    "\n",
    "ax1 = df.groupby('Quarter',sort=False).agg({'Weekly_Sales':'sum'}).plot(kind='bar',title='Total Sales vs Quarter')\n",
    "ax1.set_ylabel('Total Sales')"
   ]
  },
  {
   "cell_type": "code",
   "execution_count": 12,
   "metadata": {},
   "outputs": [
    {
     "data": {
      "text/plain": [
       "Text(0, 0.5, 'Average Sales in a month')"
      ]
     },
     "execution_count": 12,
     "metadata": {},
     "output_type": "execute_result"
    },
    {
     "data": {
      "image/png": "[encoded data removed]",
      "text/plain": [
       "<Figure size 432x288 with 1 Axes>"
      ]
     },
     "metadata": {
      "needs_background": "light"
     },
     "output_type": "display_data"
    }
   ],
   "source": [
    "#Now let us check avg sales in a month across all years\n",
    "\n",
    "df['Month'] = df['Date'].dt.month\n",
    "ax2 = df.groupby('Month',sort = False).agg({'Weekly_Sales':'mean'}).plot(kind='bar',title='Average sales vs month across all years')\n",
    "ax2.set_ylabel('Average Sales in a month')"
   ]
  },
  {
   "cell_type": "code",
   "execution_count": 13,
   "metadata": {},
   "outputs": [
    {
     "data": {
      "text/plain": [
       "<matplotlib.axes._subplots.AxesSubplot at 0x1ba406e2f10>"
      ]
     },
     "execution_count": 13,
     "metadata": {},
     "output_type": "execute_result"
    },
    {
     "data": {
      "image/png": "[encoded data removed]",
      "text/plain": [
       "<Figure size 432x288 with 1 Axes>"
      ]
     },
     "metadata": {
      "needs_background": "light"
     },
     "output_type": "display_data"
    },
    {
     "data": {
      "image/png": "[encoded data removed]",
      "text/plain": [
       "<Figure size 432x288 with 1 Axes>"
      ]
     },
     "metadata": {
      "needs_background": "light"
     },
     "output_type": "display_data"
    },
    {
     "data": {
      "image/png": "[encoded data removed]",
      "text/plain": [
       "<Figure size 432x288 with 1 Axes>"
      ]
     },
     "metadata": {
      "needs_background": "light"
     },
     "output_type": "display_data"
    }
   ],
   "source": [
    "#Let us check Total sales in a month for each year separately\n",
    "\n",
    "df[df['Date'].dt.year == 2010].groupby('Month',sort = False).agg({'Weekly_Sales':'sum'}).plot(kind='bar',title = 'Total sales vs month in 2010')\n",
    "\n",
    "df[df['Date'].dt.year == 2011].groupby('Month',sort = False).agg({'Weekly_Sales':'sum'}).plot(kind='bar',title='Total sales vs month in 2011')\n",
    "\n",
    "df[df['Date'].dt.year == 2012].groupby('Month',sort = False).agg({'Weekly_Sales':'sum'}).plot(kind='bar',title='Total sales vs month in 2012')\n"
   ]
  },
  {
   "cell_type": "markdown",
   "metadata": {},
   "source": [
    "We can observe the following insights:\n",
    "1. Quarter 4 in 2010 has the highest sales whereas Q4 in 2012 has the lowest(this could be because we have incomplete data of 2012).\n",
    "2. We see that sales are greatest in an average in December.\n",
    "3. When we plot monthly sales for each year, we do not see any particular pattern, however sales in December are higher than average each year (except 2012 due to incomplete data)\n",
    "4. Sales are also high in the months 4-6."
   ]
  },
  {
   "cell_type": "code",
   "execution_count": 14,
   "metadata": {},
   "outputs": [
    {
     "data": {
      "text/html": [
       "<div>\n",
       "<style scoped>\n",
       "    .dataframe tbody tr th:only-of-type {\n",
       "        vertical-align: middle;\n",
       "    }\n",
       "\n",
       "    .dataframe tbody tr th {\n",
       "        vertical-align: top;\n",
       "    }\n",
       "\n",
       "    .dataframe thead th {\n",
       "        text-align: right;\n",
       "    }\n",
       "</style>\n",
       "<table border=\"1\" class=\"dataframe\">\n",
       "  <thead>\n",
       "    <tr style=\"text-align: right;\">\n",
       "      <th></th>\n",
       "      <th>Store</th>\n",
       "      <th>Date</th>\n",
       "      <th>Weekly_Sales</th>\n",
       "      <th>Holiday_Flag</th>\n",
       "      <th>Temperature</th>\n",
       "      <th>Fuel_Price</th>\n",
       "      <th>CPI</th>\n",
       "      <th>Unemployment</th>\n",
       "      <th>Quarter</th>\n",
       "      <th>Holiday</th>\n",
       "      <th>Month</th>\n",
       "      <th>Dayofyear</th>\n",
       "      <th>Year</th>\n",
       "    </tr>\n",
       "  </thead>\n",
       "  <tbody>\n",
       "    <tr>\n",
       "      <th>606</th>\n",
       "      <td>5</td>\n",
       "      <td>2010-01-10</td>\n",
       "      <td>283178.12</td>\n",
       "      <td>0</td>\n",
       "      <td>71.10</td>\n",
       "      <td>2.603</td>\n",
       "      <td>212.226946</td>\n",
       "      <td>6.768</td>\n",
       "      <td>Q1-2010</td>\n",
       "      <td>None</td>\n",
       "      <td>1</td>\n",
       "      <td>10</td>\n",
       "      <td>2010</td>\n",
       "    </tr>\n",
       "    <tr>\n",
       "      <th>2036</th>\n",
       "      <td>15</td>\n",
       "      <td>2010-01-10</td>\n",
       "      <td>566945.95</td>\n",
       "      <td>0</td>\n",
       "      <td>59.69</td>\n",
       "      <td>2.840</td>\n",
       "      <td>132.756800</td>\n",
       "      <td>8.067</td>\n",
       "      <td>Q1-2010</td>\n",
       "      <td>None</td>\n",
       "      <td>1</td>\n",
       "      <td>10</td>\n",
       "      <td>2010</td>\n",
       "    </tr>\n",
       "    <tr>\n",
       "      <th>5897</th>\n",
       "      <td>42</td>\n",
       "      <td>2010-01-10</td>\n",
       "      <td>481523.93</td>\n",
       "      <td>0</td>\n",
       "      <td>86.01</td>\n",
       "      <td>3.001</td>\n",
       "      <td>126.234600</td>\n",
       "      <td>9.003</td>\n",
       "      <td>Q1-2010</td>\n",
       "      <td>None</td>\n",
       "      <td>1</td>\n",
       "      <td>10</td>\n",
       "      <td>2010</td>\n",
       "    </tr>\n",
       "    <tr>\n",
       "      <th>4610</th>\n",
       "      <td>33</td>\n",
       "      <td>2010-01-10</td>\n",
       "      <td>224294.39</td>\n",
       "      <td>0</td>\n",
       "      <td>91.45</td>\n",
       "      <td>3.001</td>\n",
       "      <td>126.234600</td>\n",
       "      <td>9.265</td>\n",
       "      <td>Q1-2010</td>\n",
       "      <td>None</td>\n",
       "      <td>1</td>\n",
       "      <td>10</td>\n",
       "      <td>2010</td>\n",
       "    </tr>\n",
       "    <tr>\n",
       "      <th>5039</th>\n",
       "      <td>36</td>\n",
       "      <td>2010-01-10</td>\n",
       "      <td>422169.47</td>\n",
       "      <td>0</td>\n",
       "      <td>74.66</td>\n",
       "      <td>2.567</td>\n",
       "      <td>210.440443</td>\n",
       "      <td>8.476</td>\n",
       "      <td>Q1-2010</td>\n",
       "      <td>None</td>\n",
       "      <td>1</td>\n",
       "      <td>10</td>\n",
       "      <td>2010</td>\n",
       "    </tr>\n",
       "    <tr>\n",
       "      <th>...</th>\n",
       "      <td>...</td>\n",
       "      <td>...</td>\n",
       "      <td>...</td>\n",
       "      <td>...</td>\n",
       "      <td>...</td>\n",
       "      <td>...</td>\n",
       "      <td>...</td>\n",
       "      <td>...</td>\n",
       "      <td>...</td>\n",
       "      <td>...</td>\n",
       "      <td>...</td>\n",
       "      <td>...</td>\n",
       "      <td>...</td>\n",
       "    </tr>\n",
       "    <tr>\n",
       "      <th>5860</th>\n",
       "      <td>41</td>\n",
       "      <td>2012-12-10</td>\n",
       "      <td>1409544.97</td>\n",
       "      <td>0</td>\n",
       "      <td>39.38</td>\n",
       "      <td>3.760</td>\n",
       "      <td>199.053937</td>\n",
       "      <td>6.195</td>\n",
       "      <td>Q4-2012</td>\n",
       "      <td>None</td>\n",
       "      <td>12</td>\n",
       "      <td>345</td>\n",
       "      <td>2012</td>\n",
       "    </tr>\n",
       "    <tr>\n",
       "      <th>2285</th>\n",
       "      <td>16</td>\n",
       "      <td>2012-12-10</td>\n",
       "      <td>491817.19</td>\n",
       "      <td>0</td>\n",
       "      <td>43.26</td>\n",
       "      <td>3.760</td>\n",
       "      <td>199.053937</td>\n",
       "      <td>5.847</td>\n",
       "      <td>Q4-2012</td>\n",
       "      <td>None</td>\n",
       "      <td>12</td>\n",
       "      <td>345</td>\n",
       "      <td>2012</td>\n",
       "    </tr>\n",
       "    <tr>\n",
       "      <th>1427</th>\n",
       "      <td>10</td>\n",
       "      <td>2012-12-10</td>\n",
       "      <td>1713889.11</td>\n",
       "      <td>0</td>\n",
       "      <td>76.03</td>\n",
       "      <td>4.468</td>\n",
       "      <td>131.108333</td>\n",
       "      <td>6.943</td>\n",
       "      <td>Q4-2012</td>\n",
       "      <td>None</td>\n",
       "      <td>12</td>\n",
       "      <td>345</td>\n",
       "      <td>2012</td>\n",
       "    </tr>\n",
       "    <tr>\n",
       "      <th>3572</th>\n",
       "      <td>25</td>\n",
       "      <td>2012-12-10</td>\n",
       "      <td>697317.41</td>\n",
       "      <td>0</td>\n",
       "      <td>43.74</td>\n",
       "      <td>4.000</td>\n",
       "      <td>216.115057</td>\n",
       "      <td>7.293</td>\n",
       "      <td>Q4-2012</td>\n",
       "      <td>None</td>\n",
       "      <td>12</td>\n",
       "      <td>345</td>\n",
       "      <td>2012</td>\n",
       "    </tr>\n",
       "    <tr>\n",
       "      <th>283</th>\n",
       "      <td>2</td>\n",
       "      <td>2012-12-10</td>\n",
       "      <td>1900745.13</td>\n",
       "      <td>0</td>\n",
       "      <td>60.97</td>\n",
       "      <td>3.601</td>\n",
       "      <td>223.015426</td>\n",
       "      <td>6.170</td>\n",
       "      <td>Q4-2012</td>\n",
       "      <td>None</td>\n",
       "      <td>12</td>\n",
       "      <td>345</td>\n",
       "      <td>2012</td>\n",
       "    </tr>\n",
       "  </tbody>\n",
       "</table>\n",
       "<p>6435 rows × 13 columns</p>\n",
       "</div>"
      ],
      "text/plain": [
       "      Store       Date  Weekly_Sales  Holiday_Flag  Temperature  Fuel_Price  \\\n",
       "606       5 2010-01-10     283178.12             0        71.10       2.603   \n",
       "2036     15 2010-01-10     566945.95             0        59.69       2.840   \n",
       "5897     42 2010-01-10     481523.93             0        86.01       3.001   \n",
       "4610     33 2010-01-10     224294.39             0        91.45       3.001   \n",
       "5039     36 2010-01-10     422169.47             0        74.66       2.567   \n",
       "...     ...        ...           ...           ...          ...         ...   \n",
       "5860     41 2012-12-10    1409544.97             0        39.38       3.760   \n",
       "2285     16 2012-12-10     491817.19             0        43.26       3.760   \n",
       "1427     10 2012-12-10    1713889.11             0        76.03       4.468   \n",
       "3572     25 2012-12-10     697317.41             0        43.74       4.000   \n",
       "283       2 2012-12-10    1900745.13             0        60.97       3.601   \n",
       "\n",
       "             CPI  Unemployment  Quarter Holiday  Month  Dayofyear  Year  \n",
       "606   212.226946         6.768  Q1-2010    None      1         10  2010  \n",
       "2036  132.756800         8.067  Q1-2010    None      1         10  2010  \n",
       "5897  126.234600         9.003  Q1-2010    None      1         10  2010  \n",
       "4610  126.234600         9.265  Q1-2010    None      1         10  2010  \n",
       "5039  210.440443         8.476  Q1-2010    None      1         10  2010  \n",
       "...          ...           ...      ...     ...    ...        ...   ...  \n",
       "5860  199.053937         6.195  Q4-2012    None     12        345  2012  \n",
       "2285  199.053937         5.847  Q4-2012    None     12        345  2012  \n",
       "1427  131.108333         6.943  Q4-2012    None     12        345  2012  \n",
       "3572  216.115057         7.293  Q4-2012    None     12        345  2012  \n",
       "283   223.015426         6.170  Q4-2012    None     12        345  2012  \n",
       "\n",
       "[6435 rows x 13 columns]"
      ]
     },
     "execution_count": 14,
     "metadata": {},
     "output_type": "execute_result"
    }
   ],
   "source": [
    "#Model Building\n",
    "#Let us create new variable for day of the year.\n",
    "\n",
    "df[\"Dayofyear\"]=df['Date'].dt.dayofyear\n",
    "df['Year']=df['Date'].dt.year\n",
    "df"
   ]
  },
  {
   "cell_type": "code",
   "execution_count": 15,
   "metadata": {},
   "outputs": [
    {
     "data": {
      "text/plain": [
       "<matplotlib.axes._subplots.AxesSubplot at 0x1ba3ff0a4c0>"
      ]
     },
     "execution_count": 15,
     "metadata": {},
     "output_type": "execute_result"
    },
    {
     "data": {
      "image/png": "[encoded data removed]",
      "text/plain": [
       "<Figure size 720x720 with 2 Axes>"
      ]
     },
     "metadata": {
      "needs_background": "light"
     },
     "output_type": "display_data"
    }
   ],
   "source": [
    "#Now before building the model, let us check correlations between the variables\n",
    "plt.figure(figsize = (10,10))\n",
    "sns.heatmap(df.corr(), cmap = 'RdBu', cbar = True, square = True, annot= True)"
   ]
  },
  {
   "cell_type": "markdown",
   "metadata": {},
   "source": [
    "We see that store has the highest correlation with weekly sales. There are strong correlations between many target variables as well, however we will keep all the variables for prediction."
   ]
  },
  {
   "cell_type": "code",
   "execution_count": 16,
   "metadata": {},
   "outputs": [],
   "source": [
    "#Converting categorical into numeric\n",
    "#As store number is categorical, let us create dummy variables\n",
    "df2 = df.copy()\n",
    "tp = pd.get_dummies(df.Store)\n",
    "df = pd.concat([df, tp], axis=1)\n",
    "df = df.drop(columns=['Store','Date','Quarter','Holiday','Month',45])\n",
    "\n",
    "#Let us separate features and labels. \n",
    "\n",
    "Y = np.log(df['Weekly_Sales'])\n",
    "X = df.drop(columns='Weekly_Sales')"
   ]
  },
  {
   "cell_type": "code",
   "execution_count": 17,
   "metadata": {},
   "outputs": [
    {
     "data": {
      "text/plain": [
       "((4826, 51), (1609, 51))"
      ]
     },
     "execution_count": 17,
     "metadata": {},
     "output_type": "execute_result"
    }
   ],
   "source": [
    "#Let us split the data into train and test set\n",
    "\n",
    "X_train, X_test, Y_train, Y_test = train_test_split(X,Y, random_state=100)\n",
    "X_train.shape, X_test.shape"
   ]
  },
  {
   "cell_type": "code",
   "execution_count": 18,
   "metadata": {},
   "outputs": [
    {
     "data": {
      "text/plain": [
       "LinearRegression()"
      ]
     },
     "execution_count": 18,
     "metadata": {},
     "output_type": "execute_result"
    }
   ],
   "source": [
    "# Let us fit a regression model to the data\n",
    "\n",
    "lreg = LinearRegression(fit_intercept=True)\n",
    "lreg.fit(X_train, Y_train)"
   ]
  },
  {
   "cell_type": "code",
   "execution_count": 19,
   "metadata": {},
   "outputs": [
    {
     "data": {
      "text/plain": [
       "(139.26332999309497,\n",
       " array([ 3.74064408e-02, -6.74080573e-04,  1.47626184e-02,  9.59113298e-03,\n",
       "        -3.64965426e-02,  1.62522223e-04, -6.32643886e-02,  3.81022896e-01,\n",
       "         5.95980576e-01, -1.01471990e+00,  1.45150516e+00, -1.25281818e+00,\n",
       "         3.33551158e-01, -3.97988303e-01, -2.48518631e-01, -7.47786517e-01,\n",
       "         1.43891852e+00,  1.94730697e-01,  9.85064179e-01,  1.44012448e+00,\n",
       "         9.48888293e-01,  2.31005396e-01, -5.52292369e-01,  6.09671346e-01,\n",
       "         8.23522993e-01,  1.08793523e+00,  7.31585151e-01, -3.38032739e-01,\n",
       "         7.08507336e-01,  9.26357546e-01,  1.03413528e+00, -3.72606330e-01,\n",
       "         7.11087329e-01,  1.24968187e+00,  1.26016274e+00,  1.64103465e-01,\n",
       "        -8.69588082e-01,  2.87487025e-01,  3.33232366e-01, -5.27044218e-01,\n",
       "         8.22340599e-01,  6.24004477e-01, -1.03064431e+00, -6.90312807e-01,\n",
       "         2.30837808e-02,  3.37435402e-01,  5.45435311e-01,  3.61321782e-01,\n",
       "         2.17428170e-01, -3.44403640e-01, -4.58520006e-01]))"
      ]
     },
     "execution_count": 19,
     "metadata": {},
     "output_type": "execute_result"
    }
   ],
   "source": [
    "#Let us print the intercept and coefficients of predictors\n",
    "\n",
    "lreg.intercept_, lreg.coef_"
   ]
  },
  {
   "cell_type": "code",
   "execution_count": 20,
   "metadata": {},
   "outputs": [
    {
     "data": {
      "image/png": "[encoded data removed]",
      "text/plain": [
       "<Figure size 576x576 with 3 Axes>"
      ]
     },
     "metadata": {
      "needs_background": "light"
     },
     "output_type": "display_data"
    }
   ],
   "source": [
    "#Let us see how the model has performed on test set\n",
    "\n",
    "train_pred = lreg.predict(X_train)\n",
    "test_pred = lreg.predict(X_test)\n",
    "\n",
    "h = sns.jointplot(x = Y_test, y = test_pred )\n",
    "h.set_axis_labels('Test', 'Predicted')\n",
    "plt.gcf().set_size_inches(8, 8)"
   ]
  },
  {
   "cell_type": "markdown",
   "metadata": {},
   "source": [
    "There seems to be a strong fit between actual and predicted values. Let us check it numerically by calculating RMSE and R squared."
   ]
  },
  {
   "cell_type": "code",
   "execution_count": 21,
   "metadata": {},
   "outputs": [
    {
     "name": "stdout",
     "output_type": "stream",
     "text": [
      "RMSE and R squared for training set : 0.11689605576426969 0.9605888079621321\n",
      "RMSE and R squared for test set : 0.11682084498754881 0.9602805117340556\n"
     ]
    }
   ],
   "source": [
    "# Now we will compare accuracy of training and test set\n",
    "\n",
    "print('RMSE and R squared for training set :',mean_squared_error(Y_train,train_pred,squared=False), r2_score(Y_train,train_pred))\n",
    "print('RMSE and R squared for test set :',mean_squared_error(Y_test,test_pred,squared=False), r2_score(Y_test,test_pred))"
   ]
  },
  {
   "cell_type": "markdown",
   "metadata": {},
   "source": [
    "We see that R2 scores of training and test sets are close, hence overfitting is less. We will check the cross validation score to ensure model performs well on unknown data."
   ]
  },
  {
   "cell_type": "code",
   "execution_count": 22,
   "metadata": {},
   "outputs": [
    {
     "name": "stdout",
     "output_type": "stream",
     "text": [
      "Cross Validation score:  0.9595925024963725\n"
     ]
    }
   ],
   "source": [
    "lm = LinearRegression()\n",
    "l_scores = cross_val_score(lm , X_train, Y_train)\n",
    "l_mean = l_scores.mean()\n",
    "print('Cross Validation score: ',l_mean)"
   ]
  },
  {
   "cell_type": "markdown",
   "metadata": {},
   "source": [
    "Cross Validation score is high as well. Hence our model generalizes well. Now finally, let us see if CPI, Unemployment and Fuel Price have significant contribution in predicting sales.\n",
    "We will test it statistically."
   ]
  },
  {
   "cell_type": "code",
   "execution_count": 23,
   "metadata": {},
   "outputs": [],
   "source": [
    "r_cpi, p_cpi = pearsonr(df2['CPI'], df2['Weekly_Sales'])\n",
    "r_unem, p_unem = pearsonr(df2['Unemployment'], df2['Weekly_Sales'])\n",
    "r_fuel, p_fuel = pearsonr(df2['Fuel_Price'], df2['Weekly_Sales'])"
   ]
  },
  {
   "cell_type": "code",
   "execution_count": 24,
   "metadata": {},
   "outputs": [
    {
     "name": "stdout",
     "output_type": "stream",
     "text": [
      "p-value for CPI  5.438292612224682e-09\n",
      "p-value for Unemployment  1.3448365210357873e-17\n",
      "p-value for Fuel Price  0.44782874895250047\n"
     ]
    }
   ],
   "source": [
    "print('p-value for CPI ',p_cpi)\n",
    "print('p-value for Unemployment ',p_unem)\n",
    "print('p-value for Fuel Price ',p_fuel)"
   ]
  },
  {
   "cell_type": "markdown",
   "metadata": {},
   "source": [
    "As p value for Fuel Price is quite high, we fail to reject null hypothesis. Hence, we can conclude that CPI and Unemployment have an impact on sales, whereas fuel price doesn't. "
   ]
  },
  {
   "cell_type": "markdown",
   "metadata": {},
   "source": [
    "Another way to predict continuous variables is to us tree and ensemble based predictors. Let us see if they give better results as individually, features don't show a significant linear relation with Sales. We will not try regularized linear models such as Lasso or Ridge as we have a good cross validation score, which indicates that the model is not over fitting. Hence regularization will also give similar results. We can, however, aim for higher accuracy, hence tree based models."
   ]
  },
  {
   "cell_type": "code",
   "execution_count": 25,
   "metadata": {},
   "outputs": [
    {
     "name": "stdout",
     "output_type": "stream",
     "text": [
      "R squared on test data for Decsion Tree:  0.957479803607204\n",
      "Cross validation score for Decision Tree:  0.9581685111505317\n"
     ]
    }
   ],
   "source": [
    "dt = DecisionTreeRegressor()\n",
    "dt.fit(X_train,Y_train)\n",
    "dt_pred = dt.predict(X_test)\n",
    "dt_score = r2_score(Y_test,dt_pred)\n",
    "dt2 = DecisionTreeRegressor()\n",
    "\n",
    "#Test data and Cross validation score for Decision Tree\n",
    "print('R squared on test data for Decsion Tree: ',dt_score)\n",
    "print('Cross validation score for Decision Tree: ',cross_val_score(dt2,X_train,Y_train).mean())"
   ]
  },
  {
   "cell_type": "markdown",
   "metadata": {},
   "source": [
    "We see that Decision tree has given a similar and slightly less accurate score. Let us try Random Forest."
   ]
  },
  {
   "cell_type": "code",
   "execution_count": 26,
   "metadata": {},
   "outputs": [
    {
     "name": "stdout",
     "output_type": "stream",
     "text": [
      "R squared on test data for Random Forest:  0.9754382149928305\n",
      "Cross validation score for Random Forest:  0.9746973635584333\n"
     ]
    }
   ],
   "source": [
    "rf = RandomForestRegressor()\n",
    "rf.fit(X_train,Y_train)\n",
    "rf_pred = rf.predict(X_test)\n",
    "rf_score = r2_score(Y_test,rf_pred)\n",
    "rf2 = RandomForestRegressor()\n",
    "\n",
    "#Test data and Cross validation score for Random Forest\n",
    "print('R squared on test data for Random Forest: ',rf_score)\n",
    "print('Cross validation score for Random Forest: ',cross_val_score(rf2,X_train,Y_train).mean())"
   ]
  },
  {
   "cell_type": "markdown",
   "metadata": {},
   "source": [
    "We see that Random Forest has given a much better accuracy as expected. Hence we will choose this model for prediction."
   ]
  },
  {
   "cell_type": "code",
   "execution_count": null,
   "metadata": {},
   "outputs": [],
   "source": []
  }
 ],
 "metadata": {
  "kernelspec": {
   "display_name": "Python 3",
   "language": "python",
   "name": "python3"
  },
  "language_info": {
   "codemirror_mode": {
    "name": "ipython",
    "version": 3
   },
   "file_extension": ".py",
   "mimetype": "text/x-python",
   "name": "python",
   "nbconvert_exporter": "python",
   "pygments_lexer": "ipython3",
   "version": "3.8.3"
  }
 },
 "nbformat": 4,
 "nbformat_minor": 4
}
